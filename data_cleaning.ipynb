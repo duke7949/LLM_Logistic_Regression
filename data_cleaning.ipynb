{
 "cells": [
  {
   "cell_type": "code",
   "execution_count": 150,
   "id": "e2cb5fc0",
   "metadata": {},
   "outputs": [],
   "source": [
    "import re\n",
    "import seaborn as sns\n",
    "import os\n",
    "import pandas as pd"
   ]
  },
  {
   "cell_type": "markdown",
   "id": "884cd9ab",
   "metadata": {},
   "source": [
    "### Load and combine all datasets into 1"
   ]
  },
  {
   "cell_type": "code",
   "execution_count": 151,
   "id": "e68a2cb5",
   "metadata": {},
   "outputs": [
    {
     "name": "stderr",
     "output_type": "stream",
     "text": [
      "C:\\Users\\Đức\\AppData\\Local\\Temp\\ipykernel_23472\\2727049990.py:15: DtypeWarning: Columns (3) have mixed types. Specify dtype option on import or set low_memory=False.\n",
      "  df = pd.read_csv(path)\n"
     ]
    }
   ],
   "source": [
    "## create dataset for matches\n",
    "dataset_dir = r\"C:\\\\Users\\\\Đức\\\\OneDrive - CVA\\\\HUU DUC onedrive\\\\Research paper with Dr.Oleg\\\\dataset\\\\match_dataset\"\n",
    "pattern = r'.*.csv$'\n",
    "\n",
    "all_files = os.listdir(dataset_dir)\n",
    "full_paths = [os.path.join(dataset_dir, file) for file in all_files]\n",
    "\n",
    "file_paths =[]\n",
    "for path in full_paths:\n",
    "    if re.fullmatch(pattern, path):\n",
    "        file_paths.append(path)\n",
    "\n",
    "df_list = []\n",
    "for path in file_paths:\n",
    "    df = pd.read_csv(path)\n",
    "    df_list.append(df)\n",
    "\n",
    "df_match = pd.concat(df_list, ignore_index=True)\n",
    "\n",
    "\n"
   ]
  },
  {
   "cell_type": "code",
   "execution_count": 152,
   "id": "b0bc6b66",
   "metadata": {},
   "outputs": [
    {
     "name": "stderr",
     "output_type": "stream",
     "text": [
      "C:\\Users\\Đức\\AppData\\Local\\Temp\\ipykernel_23472\\644946679.py:15: DtypeWarning: Columns (7) have mixed types. Specify dtype option on import or set low_memory=False.\n",
      "  df = pd.read_csv(path)\n"
     ]
    }
   ],
   "source": [
    "## create dataset for players\n",
    "dataset_dir = r\"C:\\\\Users\\\\Đức\\\\OneDrive - CVA\\\\HUU DUC onedrive\\\\Research paper with Dr.Oleg\\\\dataset\\\\player_dataset\"\n",
    "pattern = r'.*.csv$'\n",
    "\n",
    "all_files = os.listdir(dataset_dir)\n",
    "full_paths = [os.path.join(dataset_dir, file) for file in all_files]\n",
    "\n",
    "file_paths =[]\n",
    "for path in full_paths:\n",
    "    if re.fullmatch(pattern, path):\n",
    "        file_paths.append(path)\n",
    "\n",
    "df_list = []\n",
    "for path in file_paths:\n",
    "    df = pd.read_csv(path)\n",
    "    df_list.append(df)\n",
    "\n",
    "df_player = pd.concat(df_list, ignore_index=True)\n"
   ]
  },
  {
   "cell_type": "markdown",
   "id": "b774c183",
   "metadata": {},
   "source": [
    "### Clean data"
   ]
  },
  {
   "cell_type": "code",
   "execution_count": 153,
   "id": "3c689787",
   "metadata": {},
   "outputs": [],
   "source": [
    "## convert tourey_date to datetime object\n",
    "df_match['tourney_date'] = pd.to_datetime(df_match['tourney_date'], format=\"%Y%m%d\", errors='coerce')\n",
    "df_match = df_match.dropna(subset = ['tourney_date'])\n"
   ]
  },
  {
   "cell_type": "code",
   "execution_count": 154,
   "id": "706685b7",
   "metadata": {},
   "outputs": [],
   "source": [
    "## convert surface to lowercase\n",
    "df_match['surface'] = df_match['surface'].fillna('unknown').apply(lambda x: x.lower().strip())"
   ]
  },
  {
   "cell_type": "code",
   "execution_count": 155,
   "id": "2c5724b5",
   "metadata": {},
   "outputs": [],
   "source": [
    "## Remove duplicates\n",
    "df_match = df_match.drop_duplicates()"
   ]
  },
  {
   "cell_type": "code",
   "execution_count": 156,
   "id": "84e7e657",
   "metadata": {},
   "outputs": [],
   "source": [
    "## Convert to numeric columns\n",
    "\n",
    "numeric_cols = [\n",
    "    \"w_ace\", \"w_df\", \"w_svpt\", \"w_1stIn\", \"w_1stWon\", \"w_2ndWon\",\n",
    "    \"w_SvGms\", \"w_bpSaved\", \"w_bpFaced\",\n",
    "    \"l_ace\", \"l_df\", \"l_svpt\", \"l_1stIn\", \"l_1stWon\", \"l_2ndWon\",\n",
    "    \"l_SvGms\", \"l_bpSaved\", \"l_bpFaced\",\n",
    "    \"minutes\", \"winner_rank\", \"winner_rank_points\"\n",
    "]\n",
    "existing_numeric_cols = [col for col in numeric_cols if col in df_match.columns]\n",
    "\n",
    "for col in existing_numeric_cols:\n",
    "    df_match[col] = pd.to_numeric(df_match[col], errors='coerce')\n",
    "\n",
    "df_match[existing_numeric_cols] = df_match[existing_numeric_cols].fillna(0)"
   ]
  },
  {
   "cell_type": "code",
   "execution_count": 157,
   "id": "7f201ff8",
   "metadata": {},
   "outputs": [
    {
     "name": "stdout",
     "output_type": "stream",
     "text": [
      "tourney_id is not a numeric column\n",
      "tourney_name is not a numeric column\n",
      "surface is not a numeric column\n",
      "draw_size is not a numeric column\n",
      "tourney_level is not a numeric column\n",
      "winner_entry is not a numeric column\n",
      "winner_name is not a numeric column\n",
      "winner_hand is not a numeric column\n",
      "winner_ioc is not a numeric column\n",
      "loser_entry is not a numeric column\n",
      "loser_name is not a numeric column\n",
      "loser_hand is not a numeric column\n",
      "loser_ioc is not a numeric column\n",
      "score is not a numeric column\n",
      "round is not a numeric column\n"
     ]
    }
   ],
   "source": [
    "## Convert to numeric columns\n",
    "\n",
    "for col in df_match.columns:\n",
    "    try:\n",
    "        if col != 'tourney_date':\n",
    "            df_match[col] = pd.to_numeric(df_match[col])\n",
    "            \n",
    "    \n",
    "    except:\n",
    "        print(f'{col} is not a numeric column')"
   ]
  },
  {
   "cell_type": "code",
   "execution_count": 158,
   "id": "3d5b035c",
   "metadata": {},
   "outputs": [],
   "source": [
    "## Drop rows missing critical info\n",
    "critical_cols = [\n",
    "    'surface', 'round', 'winner_hand', 'loser_hand', 'tourney_level'\n",
    "]\n",
    "\n",
    "df_match = df_match.dropna(subset = critical_cols)"
   ]
  },
  {
   "cell_type": "code",
   "execution_count": 159,
   "id": "41d6c9ff",
   "metadata": {},
   "outputs": [],
   "source": [
    "## Sort observations based on date\n",
    "df_match = df_match.sort_values('tourney_date')\n",
    "df_match = df_match.reset_index(drop=True)"
   ]
  },
  {
   "cell_type": "code",
   "execution_count": 160,
   "id": "81a22fe5",
   "metadata": {},
   "outputs": [],
   "source": [
    "## Export dataset to csv file\n",
    "df_match.to_csv(\"df_match.csv\")\n"
   ]
  },
  {
   "cell_type": "code",
   "execution_count": null,
   "id": "7e18389d",
   "metadata": {},
   "outputs": [],
   "source": []
  },
  {
   "cell_type": "code",
   "execution_count": null,
   "id": "06591447",
   "metadata": {},
   "outputs": [],
   "source": []
  },
  {
   "cell_type": "code",
   "execution_count": null,
   "id": "8b2c0007",
   "metadata": {},
   "outputs": [],
   "source": []
  }
 ],
 "metadata": {
  "kernelspec": {
   "display_name": "Python 3",
   "language": "python",
   "name": "python3"
  },
  "language_info": {
   "codemirror_mode": {
    "name": "ipython",
    "version": 3
   },
   "file_extension": ".py",
   "mimetype": "text/x-python",
   "name": "python",
   "nbconvert_exporter": "python",
   "pygments_lexer": "ipython3",
   "version": "3.12.4"
  }
 },
 "nbformat": 4,
 "nbformat_minor": 5
}
