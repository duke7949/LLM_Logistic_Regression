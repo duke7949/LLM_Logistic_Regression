{
 "cells": [
  {
   "cell_type": "code",
   "execution_count": 14,
   "id": "d9dd15d0",
   "metadata": {},
   "outputs": [],
   "source": [
    "import pandas as pd\n",
    "import re\n",
    "import seaborn as sns\n",
    "import os\n",
    "import matplotlib as plt\n",
    "import statsmodels.api as sm"
   ]
  },
  {
   "cell_type": "markdown",
   "id": "4411973d",
   "metadata": {},
   "source": [
    "#### Split the dataset into 2 parts, 60% of it will be used to create a dataset for winner, the rest is for loser, the 2 datasets then will be merged again to create a dataset with a y variable\n"
   ]
  },
  {
   "cell_type": "code",
   "execution_count": 15,
   "id": "05b8c5e5",
   "metadata": {},
   "outputs": [],
   "source": [
    "df = pd.read_csv(r\"C:\\Users\\Đức\\OneDrive - CVA\\HUU DUC onedrive\\Research paper with Dr.Oleg\\dataset\\df_match.csv\")\n",
    "\n",
    "df = df.sample(frac = 1, random_state=5).reset_index(drop=True)\n",
    "\n",
    "n = int(len(df)*0.6)\n",
    "winner_df = df.iloc[:n]\n",
    "loser_df = df.iloc[n:]\n",
    "\n"
   ]
  },
  {
   "cell_type": "code",
   "execution_count": 16,
   "id": "0b6dec5a",
   "metadata": {},
   "outputs": [],
   "source": [
    "winner_df = winner_df.rename(columns={'winner_id': 'player_id',\n",
    "                        'winner_seed': 'player_seed',\n",
    "                        'winner_name': 'player_name',\n",
    "                        'winner_hand': 'player_hand',\n",
    "                        'winner_ht': 'player_ht',\n",
    "                        'winner_ioc': 'player_ioc',\n",
    "                        'winner_age': 'player_age',\n",
    "                        'winner_entry': 'player_entry',\n",
    "                        'winner_rank': 'player_rank',\n",
    "                        'winner_rank_points': 'player_rank_points'})\n",
    "\n",
    "# Add a column to represent difference in seed (there are so many missing values)\n",
    "winner_df['seed_dif'] = winner_df['player_seed'] - winner_df['loser_seed']\n",
    "\n",
    "# Difference in height\n",
    "winner_df['ht_dif'] = winner_df['player_ht'] - winner_df['loser_ht']\n",
    "\n",
    "# Difference in age\n",
    "winner_df['age_dif'] = winner_df['player_age'] - winner_df['loser_age']\n",
    "\n",
    "# Difference in rank and rank points\n",
    "winner_df['rank_dif'] = winner_df['player_rank'] - winner_df['loser_rank']\n",
    "winner_df['rank_points_dif'] = winner_df['player_rank_points'] - winner_df['loser_rank_points']\n",
    "\n",
    "winner_df = winner_df[['player_id',\n",
    "                        'player_seed', 'seed_dif',\n",
    "                        'player_name',\n",
    "                        'player_hand',\n",
    "                        'player_ht', 'ht_dif',\n",
    "                        'player_ioc',\n",
    "                        'player_age', 'age_dif',\n",
    "                        'player_entry',\n",
    "                        'player_rank', 'rank_dif',\n",
    "                        'player_rank_points', 'rank_points_dif',\n",
    "                        'tourney_name',\n",
    "                        'surface',\n",
    "                        'draw_size',\n",
    "                        'tourney_level',\n",
    "                        'tourney_date',\n",
    "                        'round']]\n",
    "\n",
    "winner_df['outcome'] = 1"
   ]
  },
  {
   "cell_type": "code",
   "execution_count": 17,
   "id": "9931b91b",
   "metadata": {},
   "outputs": [],
   "source": [
    "loser_df = loser_df.rename(columns={'loser_id': 'player_id',\n",
    "                        'loser_seed': 'player_seed',\n",
    "                        'loser_name': 'player_name',\n",
    "                        'loser_hand': 'player_hand',\n",
    "                        'loser_ht': 'player_ht',\n",
    "                        'loser_ioc': 'player_ioc',\n",
    "                        'loser_age': 'player_age',\n",
    "                        'loser_entry': 'player_entry',\n",
    "                        'loser_rank': 'player_rank',\n",
    "                        'loser_rank_points': 'player_rank_points'})\n",
    "\n",
    "\n",
    "# Add a column to represent difference in seed (there are so many missing values)\n",
    "loser_df['seed_dif'] = loser_df['player_seed'] - loser_df['winner_seed']\n",
    "\n",
    "# Difference in height\n",
    "loser_df['ht_dif'] = loser_df['player_ht'] - loser_df['winner_ht']\n",
    "\n",
    "# Difference in age\n",
    "loser_df['age_dif'] = loser_df['player_age'] - loser_df['winner_age']\n",
    "\n",
    "# Difference in rank and rank points\n",
    "loser_df['rank_dif'] = loser_df['player_rank'] - loser_df['winner_rank']\n",
    "loser_df['rank_points_dif'] = loser_df['player_rank_points'] - loser_df['winner_rank_points']\n",
    "\n",
    "loser_df = loser_df[['player_id',\n",
    "                        'player_seed', 'seed_dif',\n",
    "                        'player_name',\n",
    "                        'player_hand',\n",
    "                        'player_ht', 'ht_dif',\n",
    "                        'player_ioc',\n",
    "                        'player_age', 'age_dif',\n",
    "                        'player_entry',\n",
    "                        'player_rank', 'rank_dif',\n",
    "                        'player_rank_points', 'rank_points_dif',\n",
    "                        'tourney_name',\n",
    "                        'surface',\n",
    "                        'draw_size',\n",
    "                        'tourney_level',\n",
    "                        'tourney_date',\n",
    "                        'round']]\n",
    "\n",
    "loser_df['outcome'] = 0"
   ]
  },
  {
   "cell_type": "code",
   "execution_count": 18,
   "id": "767187e9",
   "metadata": {},
   "outputs": [],
   "source": [
    "model_df = pd.concat([winner_df, loser_df], axis = 0, ignore_index=True)\n",
    "model_df = model_df.sample(frac = 1, random_state = 10).reset_index(drop = True)\n",
    "\n",
    "model_df = pd.get_dummies(data = model_df, columns =['surface'], drop_first=True)\n",
    "\n",
    "model_df = model_df.dropna()  \n",
    "\n",
    "col_list = ['surface_clay', 'surface_grass', 'surface_hard', 'surface_unknown']\n",
    "for col in col_list:\n",
    "    model_df[col] = model_df[col].apply(lambda x: 0 if x==False else 1)\n",
    "\n",
    "train_size = int(len(model_df)*0.7)\n",
    "train_df = model_df.iloc[:train_size]\n",
    "test_df = model_df.iloc[train_size:]\n",
    "\n"
   ]
  },
  {
   "cell_type": "code",
   "execution_count": 20,
   "id": "4834ba69",
   "metadata": {},
   "outputs": [
    {
     "name": "stdout",
     "output_type": "stream",
     "text": [
      "Warning: Maximum number of iterations has been exceeded.\n",
      "         Current function value: 0.647057\n",
      "         Iterations: 35\n",
      "                           Logit Regression Results                           \n",
      "==============================================================================\n",
      "Dep. Variable:                outcome   No. Observations:                  504\n",
      "Model:                          Logit   Df Residuals:                      496\n",
      "Method:                           MLE   Df Model:                            7\n",
      "Date:                Wed, 06 Aug 2025   Pseudo R-squ.:                 0.02341\n",
      "Time:                        12:55:12   Log-Likelihood:                -326.12\n",
      "converged:                      False   LL-Null:                       -333.93\n",
      "Covariance Type:            nonrobust   LLR p-value:                   0.02867\n",
      "===================================================================================\n",
      "                      coef    std err          z      P>|z|      [0.025      0.975]\n",
      "-----------------------------------------------------------------------------------\n",
      "const               0.2766      0.546      0.507      0.612      -0.793       1.346\n",
      "ht_dif             -0.0079      0.008     -0.974      0.330      -0.024       0.008\n",
      "age_dif            -0.0123      0.020     -0.617      0.537      -0.052       0.027\n",
      "rank_dif           -0.0016      0.001     -2.753      0.006      -0.003      -0.000\n",
      "rank_points_dif -3.704e-05      0.000     -0.100      0.921      -0.001       0.001\n",
      "surface_clay        0.2231      0.561      0.398      0.691      -0.876       1.322\n",
      "surface_grass     -20.4105   1.19e+04     -0.002      0.999   -2.33e+04    2.32e+04\n",
      "surface_hard        0.1266      0.562      0.225      0.822      -0.975       1.229\n",
      "===================================================================================\n"
     ]
    },
    {
     "name": "stderr",
     "output_type": "stream",
     "text": [
      "c:\\Users\\Đức\\AppData\\Local\\Programs\\Python\\Python312\\Lib\\site-packages\\statsmodels\\base\\model.py:607: ConvergenceWarning: Maximum Likelihood optimization failed to converge. Check mle_retvals\n",
      "  warnings.warn(\"Maximum Likelihood optimization failed to \"\n"
     ]
    }
   ],
   "source": [
    "X_train = train_df[['ht_dif', 'age_dif', 'rank_dif', 'rank_points_dif','surface_clay', 'surface_grass', 'surface_hard']]\n",
    "y_train = train_df['outcome']\n",
    "\n",
    "X_train = sm.add_constant(X_train)\n",
    "model = sm.Logit(y_train, X_train)\n",
    "result = model.fit()\n",
    "\n",
    "print(result.summary())\n"
   ]
  }
 ],
 "metadata": {
  "kernelspec": {
   "display_name": "Python 3",
   "language": "python",
   "name": "python3"
  },
  "language_info": {
   "codemirror_mode": {
    "name": "ipython",
    "version": 3
   },
   "file_extension": ".py",
   "mimetype": "text/x-python",
   "name": "python",
   "nbconvert_exporter": "python",
   "pygments_lexer": "ipython3",
   "version": "3.12.4"
  }
 },
 "nbformat": 4,
 "nbformat_minor": 5
}
